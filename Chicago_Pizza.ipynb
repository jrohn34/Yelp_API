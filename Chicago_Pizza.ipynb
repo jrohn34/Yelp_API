{
 "cells": [
  {
   "cell_type": "code",
   "execution_count": 4,
   "id": "b51ab8e2-08e9-4a27-82ed-8e3c5e3661c3",
   "metadata": {},
   "outputs": [],
   "source": [
    "# Standard Imports\n",
    "import numpy as np\n",
    "import pandas as pd\n",
    "import matplotlib.pyplot as plt\n",
    "import seaborn as sns\n",
    "# Additional Imports\n",
    "import os, json, math, time\n",
    "from yelpapi import YelpAPI\n",
    "from tqdm.notebook import tqdm_notebook"
   ]
  },
  {
   "cell_type": "code",
   "execution_count": 5,
   "id": "4ac770f7-571f-473f-99fc-7fa3825bdc99",
   "metadata": {},
   "outputs": [
    {
     "data": {
      "text/plain": [
       "dict_keys(['client-id', 'api-key'])"
      ]
     },
     "execution_count": 5,
     "metadata": {},
     "output_type": "execute_result"
    }
   ],
   "source": [
    "with open('/Users/JoshuaRohn/.secret/yelp_api.json')as f: #change the path to match YOUR path!!\n",
    "    login = json.load(f)\n",
    "login.keys()"
   ]
  },
  {
   "cell_type": "code",
   "execution_count": 6,
   "id": "f03af4fe-154e-47e1-ad14-8f1a55f6d905",
   "metadata": {},
   "outputs": [
    {
     "data": {
      "text/plain": [
       "<yelpapi.yelpapi.YelpAPI at 0x13c577c10>"
      ]
     },
     "execution_count": 6,
     "metadata": {},
     "output_type": "execute_result"
    }
   ],
   "source": [
    "from yelpapi import YelpAPI\n",
    "yelp_api = YelpAPI(login['api-key'], timeout_s=5.0)\n",
    "yelp_api"
   ]
  },
  {
   "cell_type": "code",
   "execution_count": 7,
   "id": "08750394-5e48-4509-95c1-de566e16eb26",
   "metadata": {},
   "outputs": [],
   "source": [
    "LOCATION = 'Chicago, IL'\n",
    "TERM = 'Pizza'"
   ]
  },
  {
   "cell_type": "code",
   "execution_count": 8,
   "id": "be5ac04a-758b-4150-bfec-63015dfee5dd",
   "metadata": {},
   "outputs": [
    {
     "data": {
      "text/plain": [
       "'Data/results_in_progress_Chicago_pizza.json'"
      ]
     },
     "execution_count": 8,
     "metadata": {},
     "output_type": "execute_result"
    }
   ],
   "source": [
    "JSON_FILE = \"Data/results_in_progress_Chicago_pizza.json\"\n",
    "JSON_FILE"
   ]
  },
  {
   "cell_type": "code",
   "execution_count": 9,
   "id": "74166766-4cc7-4f69-9c8b-bafb6d585e4e",
   "metadata": {},
   "outputs": [
    {
     "name": "stdout",
     "output_type": "stream",
     "text": [
      "[i] Data/results_in_progress_Chicago_pizza.json not found. Saving empty list to file.\n"
     ]
    }
   ],
   "source": [
    "## Check if JSON_FILE exists\n",
    "file_exists = os.path.isfile(JSON_FILE)\n",
    "## If it does not exist: \n",
    "if file_exists == False:\n",
    "    \n",
    "    ## CREATE ANY NEEDED FOLDERS\n",
    "    # Get the Folder Name only\n",
    "    folder = os.path.dirname(JSON_FILE)\n",
    "    ## If JSON_FILE included a folder:\n",
    "    if len(folder)>0:\n",
    "        # create the folder\n",
    "        os.makedirs(folder,exist_ok=True)\n",
    "        \n",
    "        \n",
    "    ## INFORM USER AND SAVE EMPTY LIST\n",
    "    print(f'[i] {JSON_FILE} not found. Saving empty list to file.')\n",
    "    \n",
    "    \n",
    "    # save an empty list\n",
    "    with open(JSON_FILE,'w') as f:\n",
    "        json.dump([],f)  \n",
    "# If it exists, inform user\n",
    "else:\n",
    "    print(f\"[i] {JSON_FILE} already exists.\")"
   ]
  },
  {
   "cell_type": "code",
   "execution_count": 10,
   "id": "4f8f8ea3-4690-41be-b339-c9bb47beddf2",
   "metadata": {},
   "outputs": [
    {
     "name": "stdout",
     "output_type": "stream",
     "text": [
      "- 0 previous results found.\n"
     ]
    }
   ],
   "source": [
    "## Load previous results and use len of results for offset\n",
    "with open(JSON_FILE,'r') as f:\n",
    "    previous_results = json.load(f)\n",
    "    \n",
    "## set offset based on previous results\n",
    "n_results = len(previous_results)\n",
    "print(f'- {n_results} previous results found.')"
   ]
  },
  {
   "cell_type": "code",
   "execution_count": 11,
   "id": "aeb7813a-b592-47c6-8c6e-af79d360337c",
   "metadata": {},
   "outputs": [
    {
     "data": {
      "text/plain": [
       "dict_keys(['businesses', 'total', 'region'])"
      ]
     },
     "execution_count": 11,
     "metadata": {},
     "output_type": "execute_result"
    }
   ],
   "source": [
    "# use our yelp_api variable's search_query method to perform our API call\n",
    "results = yelp_api.search_query(location=LOCATION,\n",
    "                                term=TERM,\n",
    "                               offset=n_results)\n",
    "results.keys()"
   ]
  },
  {
   "cell_type": "code",
   "execution_count": 12,
   "id": "b421fd87-51fc-42a7-8be8-516b1721e2a6",
   "metadata": {},
   "outputs": [
    {
     "data": {
      "text/plain": [
       "5300"
      ]
     },
     "execution_count": 12,
     "metadata": {},
     "output_type": "execute_result"
    }
   ],
   "source": [
    "total_results = results['total']\n",
    "total_results"
   ]
  },
  {
   "cell_type": "code",
   "execution_count": 13,
   "id": "9f488883-1155-4ee6-b2d7-477da262b039",
   "metadata": {},
   "outputs": [
    {
     "data": {
      "text/plain": [
       "20"
      ]
     },
     "execution_count": 13,
     "metadata": {},
     "output_type": "execute_result"
    }
   ],
   "source": [
    "results_per_page = len(results['businesses'])\n",
    "results_per_page"
   ]
  },
  {
   "cell_type": "code",
   "execution_count": 14,
   "id": "d2b9ae0c-4880-4470-b4f5-4bfecd4c51f9",
   "metadata": {},
   "outputs": [
    {
     "data": {
      "text/plain": [
       "265"
      ]
     },
     "execution_count": 14,
     "metadata": {},
     "output_type": "execute_result"
    }
   ],
   "source": [
    "import time, math\n",
    "# Use math.ceil to round up for the total number of pages of results.\n",
    "n_pages = math.ceil((results['total']-n_results)/ results_per_page)\n",
    "n_pages"
   ]
  },
  {
   "cell_type": "code",
   "execution_count": 15,
   "id": "f96f2521-1a55-4faa-bbb5-04f666309abc",
   "metadata": {},
   "outputs": [],
   "source": [
    "previous_results.extend(results['businesses'])  \n",
    "with open(JSON_FILE,'w') as f:\n",
    "     json.dump(previous_results,f)"
   ]
  },
  {
   "cell_type": "code",
   "execution_count": 16,
   "id": "0fe6d161-4cea-4900-a99f-59f7af6a19c7",
   "metadata": {},
   "outputs": [
    {
     "data": {
      "application/vnd.jupyter.widget-view+json": {
       "model_id": "a4c6bdd54ab645d48a8dceb54b15cae9",
       "version_major": 2,
       "version_minor": 0
      },
      "text/plain": [
       "  0%|          | 0/265 [00:00<?, ?it/s]"
      ]
     },
     "metadata": {},
     "output_type": "display_data"
    }
   ],
   "source": [
    "from tqdm.notebook import tqdm_notebook\n",
    "import time\n",
    "for i in tqdm_notebook(range(n_pages)):\n",
    "    # adds 200 ms pause\n",
    "    time.sleep(.2) "
   ]
  },
  {
   "cell_type": "code",
   "execution_count": 17,
   "id": "8e86cc90-c3c0-4b53-99d9-682aa8169203",
   "metadata": {},
   "outputs": [
    {
     "data": {
      "application/vnd.jupyter.widget-view+json": {
       "model_id": "0c4a8cf2132b47dda40bb9a3ae899592",
       "version_major": 2,
       "version_minor": 0
      },
      "text/plain": [
       "  0%|          | 0/265 [00:00<?, ?it/s]"
      ]
     },
     "metadata": {},
     "output_type": "display_data"
    },
    {
     "ename": "YelpAPIError",
     "evalue": "VALIDATION_ERROR: Too many results requested, limit+offset must be <= 1000.",
     "output_type": "error",
     "traceback": [
      "\u001b[0;31m---------------------------------------------------------------------------\u001b[0m",
      "\u001b[0;31mYelpAPIError\u001b[0m                              Traceback (most recent call last)",
      "Cell \u001b[0;32mIn[17], line 9\u001b[0m\n\u001b[1;32m      7\u001b[0m n_results \u001b[38;5;241m=\u001b[39m \u001b[38;5;28mlen\u001b[39m(previous_results)\n\u001b[1;32m      8\u001b[0m \u001b[38;5;66;03m## use n_results as the OFFSET \u001b[39;00m\n\u001b[0;32m----> 9\u001b[0m results \u001b[38;5;241m=\u001b[39m \u001b[43myelp_api\u001b[49m\u001b[38;5;241;43m.\u001b[39;49m\u001b[43msearch_query\u001b[49m\u001b[43m(\u001b[49m\u001b[43mlocation\u001b[49m\u001b[38;5;241;43m=\u001b[39;49m\u001b[43mLOCATION\u001b[49m\u001b[43m,\u001b[49m\n\u001b[1;32m     10\u001b[0m \u001b[43m                                \u001b[49m\u001b[43mterm\u001b[49m\u001b[38;5;241;43m=\u001b[39;49m\u001b[43mTERM\u001b[49m\u001b[43m,\u001b[49m\u001b[43m \u001b[49m\n\u001b[1;32m     11\u001b[0m \u001b[43m                                \u001b[49m\u001b[43moffset\u001b[49m\u001b[38;5;241;43m=\u001b[39;49m\u001b[43mn_results\u001b[49m\u001b[43m)\u001b[49m\n\u001b[1;32m     13\u001b[0m \u001b[38;5;66;03m## append new results and save to file\u001b[39;00m\n\u001b[1;32m     14\u001b[0m previous_results\u001b[38;5;241m.\u001b[39mextend(results[\u001b[38;5;124m'\u001b[39m\u001b[38;5;124mbusinesses\u001b[39m\u001b[38;5;124m'\u001b[39m])\n",
      "File \u001b[0;32m~/anaconda3/envs/dojo-env/lib/python3.10/site-packages/yelpapi/yelpapi.py:251\u001b[0m, in \u001b[0;36mYelpAPI.search_query\u001b[0;34m(self, **kwargs)\u001b[0m\n\u001b[1;32m    247\u001b[0m \u001b[38;5;28;01mif\u001b[39;00m \u001b[38;5;129;01mnot\u001b[39;00m kwargs\u001b[38;5;241m.\u001b[39mget(\u001b[38;5;124m'\u001b[39m\u001b[38;5;124mlocation\u001b[39m\u001b[38;5;124m'\u001b[39m) \u001b[38;5;129;01mand\u001b[39;00m (\u001b[38;5;129;01mnot\u001b[39;00m kwargs\u001b[38;5;241m.\u001b[39mget(\u001b[38;5;124m'\u001b[39m\u001b[38;5;124mlatitude\u001b[39m\u001b[38;5;124m'\u001b[39m) \u001b[38;5;129;01mor\u001b[39;00m \u001b[38;5;129;01mnot\u001b[39;00m kwargs\u001b[38;5;241m.\u001b[39mget(\u001b[38;5;124m'\u001b[39m\u001b[38;5;124mlongitude\u001b[39m\u001b[38;5;124m'\u001b[39m)):\n\u001b[1;32m    248\u001b[0m     \u001b[38;5;28;01mraise\u001b[39;00m \u001b[38;5;167;01mValueError\u001b[39;00m(\u001b[38;5;124m'\u001b[39m\u001b[38;5;124mA valid location (parameter \u001b[39m\u001b[38;5;124m\"\u001b[39m\u001b[38;5;124mlocation\u001b[39m\u001b[38;5;124m\"\u001b[39m\u001b[38;5;124m) or latitude/longitude combination \u001b[39m\u001b[38;5;124m'\u001b[39m\n\u001b[1;32m    249\u001b[0m                      \u001b[38;5;124m'\u001b[39m\u001b[38;5;124m(parameters \u001b[39m\u001b[38;5;124m\"\u001b[39m\u001b[38;5;124mlatitude\u001b[39m\u001b[38;5;124m\"\u001b[39m\u001b[38;5;124m and \u001b[39m\u001b[38;5;124m\"\u001b[39m\u001b[38;5;124mlongitude\u001b[39m\u001b[38;5;124m\"\u001b[39m\u001b[38;5;124m) must be provided.\u001b[39m\u001b[38;5;124m'\u001b[39m)\n\u001b[0;32m--> 251\u001b[0m \u001b[38;5;28;01mreturn\u001b[39;00m \u001b[38;5;28;43mself\u001b[39;49m\u001b[38;5;241;43m.\u001b[39;49m\u001b[43m_query\u001b[49m\u001b[43m(\u001b[49m\u001b[43mSEARCH_API_URL\u001b[49m\u001b[43m,\u001b[49m\u001b[43m \u001b[49m\u001b[38;5;241;43m*\u001b[39;49m\u001b[38;5;241;43m*\u001b[39;49m\u001b[43mkwargs\u001b[49m\u001b[43m)\u001b[49m\n",
      "File \u001b[0;32m~/anaconda3/envs/dojo-env/lib/python3.10/site-packages/yelpapi/yelpapi.py:299\u001b[0m, in \u001b[0;36mYelpAPI._query\u001b[0;34m(self, url, **kwargs)\u001b[0m\n\u001b[1;32m    295\u001b[0m \u001b[38;5;66;03m# Yelp can return one of many different API errors, so check for one of them.\u001b[39;00m\n\u001b[1;32m    296\u001b[0m \u001b[38;5;66;03m# The Yelp Fusion API does not yet have a complete list of errors, but this is on the TODO list; see\u001b[39;00m\n\u001b[1;32m    297\u001b[0m \u001b[38;5;66;03m# https://github.com/Yelp/yelp-fusion/issues/95 for more info.\u001b[39;00m\n\u001b[1;32m    298\u001b[0m \u001b[38;5;28;01mif\u001b[39;00m \u001b[38;5;124m'\u001b[39m\u001b[38;5;124merror\u001b[39m\u001b[38;5;124m'\u001b[39m \u001b[38;5;129;01min\u001b[39;00m response_json:\n\u001b[0;32m--> 299\u001b[0m     \u001b[38;5;28;01mraise\u001b[39;00m YelpAPI\u001b[38;5;241m.\u001b[39mYelpAPIError(\u001b[38;5;124m'\u001b[39m\u001b[38;5;132;01m{}\u001b[39;00m\u001b[38;5;124m: \u001b[39m\u001b[38;5;132;01m{}\u001b[39;00m\u001b[38;5;124m'\u001b[39m\u001b[38;5;241m.\u001b[39mformat(response_json[\u001b[38;5;124m'\u001b[39m\u001b[38;5;124merror\u001b[39m\u001b[38;5;124m'\u001b[39m][\u001b[38;5;124m'\u001b[39m\u001b[38;5;124mcode\u001b[39m\u001b[38;5;124m'\u001b[39m],\n\u001b[1;32m    300\u001b[0m                                                response_json[\u001b[38;5;124m'\u001b[39m\u001b[38;5;124merror\u001b[39m\u001b[38;5;124m'\u001b[39m][\u001b[38;5;124m'\u001b[39m\u001b[38;5;124mdescription\u001b[39m\u001b[38;5;124m'\u001b[39m]))\n\u001b[1;32m    302\u001b[0m \u001b[38;5;66;03m# we got a good response, so return\u001b[39;00m\n\u001b[1;32m    303\u001b[0m \u001b[38;5;28;01mreturn\u001b[39;00m response_json\n",
      "\u001b[0;31mYelpAPIError\u001b[0m: VALIDATION_ERROR: Too many results requested, limit+offset must be <= 1000."
     ]
    }
   ],
   "source": [
    "for i in tqdm_notebook( range(1,n_pages+1)):\n",
    "    \n",
    "    ## Read in results in progress file and check the length\n",
    "    with open(JSON_FILE, 'r') as f:\n",
    "        previous_results = json.load(f)\n",
    "    ## save number of results for to use as offset\n",
    "    n_results = len(previous_results)\n",
    "    ## use n_results as the OFFSET \n",
    "    results = yelp_api.search_query(location=LOCATION,\n",
    "                                    term=TERM, \n",
    "                                    offset=n_results)\n",
    "    \n",
    "    ## append new results and save to file\n",
    "    previous_results.extend(results['businesses'])\n",
    "    \n",
    "    with open(JSON_FILE,'w') as f:\n",
    "        json.dump(previous_results,f)\n",
    "    \n",
    "    # add a 200ms pause\n",
    "    time.sleep(.2)"
   ]
  },
  {
   "cell_type": "code",
   "execution_count": 18,
   "id": "59c4306a-75bb-4cfd-935f-af386f90a846",
   "metadata": {},
   "outputs": [
    {
     "data": {
      "text/plain": [
       "False"
      ]
     },
     "execution_count": 18,
     "metadata": {},
     "output_type": "execute_result"
    }
   ],
   "source": [
    "os.remove(JSON_FILE)\n",
    "os.path.isfile(JSON_FILE)"
   ]
  },
  {
   "cell_type": "code",
   "execution_count": 19,
   "id": "4bd71242-4600-4b25-a63a-c1d5a127f599",
   "metadata": {},
   "outputs": [],
   "source": [
    "def create_json_file(JSON_FILE,  delete_if_exists=False):\n",
    "    \n",
    "    ## Check if JSON_FILE exists\n",
    "    file_exists = os.path.isfile(JSON_FILE)\n",
    "    \n",
    "    ## If it DOES exist:\n",
    "    if file_exists == True:\n",
    "        \n",
    "        ## Check if user wants to delete if exists\n",
    "        if delete_if_exists==True:\n",
    "            \n",
    "            print(f\"[!] {JSON_FILE} already exists. Deleting previous file...\")\n",
    "            ## delete file and confirm it no longer exits.\n",
    "            os.remove(JSON_FILE)\n",
    "            ## Recursive call to function after old file deleted\n",
    "            create_json_file(JSON_FILE,delete_if_exists=False)\n",
    "        else:\n",
    "            print(f\"[i] {JSON_FILE} already exists.\")            \n",
    "            \n",
    "            \n",
    "    ## If it does NOT exist:\n",
    "    else:\n",
    "        \n",
    "        ## INFORM USER AND SAVE EMPTY LIST\n",
    "        print(f\"[i] {JSON_FILE} not found. Saving empty list to new file.\")\n",
    "        \n",
    "        ## CREATE ANY NEEDED FOLDERS\n",
    "        # Get the Folder Name only\n",
    "        folder = os.path.dirname(JSON_FILE)\n",
    "        \n",
    "        ## If JSON_FILE included a folder:\n",
    "        if len(folder)>0:\n",
    "            # create the folder\n",
    "            os.makedirs(folder,exist_ok=True)\n",
    "        ## Save empty list to start the json file\n",
    "        with open(JSON_FILE,'w') as f:\n",
    "            json.dump([],f)  "
   ]
  },
  {
   "cell_type": "code",
   "execution_count": 20,
   "id": "7cbe57b4-72bb-40f6-a645-0cd01ad759a4",
   "metadata": {},
   "outputs": [
    {
     "name": "stdout",
     "output_type": "stream",
     "text": [
      "[i] Data/results_in_progress_Chicago_pizza.json not found. Saving empty list to new file.\n",
      "- 0 previous results found.\n"
     ]
    },
    {
     "data": {
      "text/plain": [
       "265"
      ]
     },
     "execution_count": 20,
     "metadata": {},
     "output_type": "execute_result"
    }
   ],
   "source": [
    "## Create a new empty json file (exist the previous if it exists)\n",
    "create_json_file(JSON_FILE, delete_if_exists=True)\n",
    "## Load previous results and use len of results for offset\n",
    "with open(JSON_FILE,'r') as f:\n",
    "    previous_results = json.load(f)\n",
    "    \n",
    "## set offset based on previous results\n",
    "n_results = len(previous_results)\n",
    "print(f'- {n_results} previous results found.')\n",
    "# use our yelp_api variable's search_query method to perform our API call\n",
    "results = yelp_api.search_query(location=LOCATION,\n",
    "                                term=TERM,\n",
    "                               offset=n_results)\n",
    "## How many results total?\n",
    "total_results = results['total']\n",
    "## How many did we get the details for?\n",
    "results_per_page = len(results['businesses'])\n",
    "# Use math.ceil to round up for the total number of pages of results.\n",
    "n_pages = math.ceil((results['total']-n_results)/ results_per_page)\n",
    "n_pages"
   ]
  },
  {
   "cell_type": "code",
   "execution_count": 21,
   "id": "83deb503-7f7d-4f54-8092-2d6e7ab702a6",
   "metadata": {},
   "outputs": [
    {
     "data": {
      "application/vnd.jupyter.widget-view+json": {
       "model_id": "4e0988a131474c41bb62d461e8eedc99",
       "version_major": 2,
       "version_minor": 0
      },
      "text/plain": [
       "  0%|          | 0/265 [00:00<?, ?it/s]"
      ]
     },
     "metadata": {},
     "output_type": "display_data"
    },
    {
     "name": "stdout",
     "output_type": "stream",
     "text": [
      "Exceeded 1000 api calls. Stopping loop.\n"
     ]
    }
   ],
   "source": [
    "for i in tqdm_notebook( range(1,n_pages+1)):\n",
    "    \n",
    "    ## Read in results in progress file and check the length\n",
    "    with open(JSON_FILE, 'r') as f:\n",
    "        previous_results = json.load(f)\n",
    "    ## save number of results for to use as offset\n",
    "    n_results = len(previous_results)\n",
    "    \n",
    "    if (n_results + results_per_page) > 1000:\n",
    "        print('Exceeded 1000 api calls. Stopping loop.')\n",
    "        break\n",
    "    \n",
    "    ## use n_results as the OFFSET \n",
    "    results = yelp_api.search_query(location=LOCATION,\n",
    "                                    term=TERM, \n",
    "                                    offset=n_results)\n",
    "    \n",
    "    \n",
    "    \n",
    "    ## append new results and save to file\n",
    "    previous_results.extend(results['businesses'])\n",
    "    \n",
    "    # display(previous_results)\n",
    "    with open(JSON_FILE,'w') as f:\n",
    "        json.dump(previous_results,f)\n",
    "    \n",
    "    time.sleep(.2)"
   ]
  },
  {
   "cell_type": "code",
   "execution_count": 22,
   "id": "a1d2877d-53bc-4cbb-a3fb-c1fda885628d",
   "metadata": {},
   "outputs": [
    {
     "data": {
      "text/html": [
       "<div>\n",
       "<style scoped>\n",
       "    .dataframe tbody tr th:only-of-type {\n",
       "        vertical-align: middle;\n",
       "    }\n",
       "\n",
       "    .dataframe tbody tr th {\n",
       "        vertical-align: top;\n",
       "    }\n",
       "\n",
       "    .dataframe thead th {\n",
       "        text-align: right;\n",
       "    }\n",
       "</style>\n",
       "<table border=\"1\" class=\"dataframe\">\n",
       "  <thead>\n",
       "    <tr style=\"text-align: right;\">\n",
       "      <th></th>\n",
       "      <th>id</th>\n",
       "      <th>alias</th>\n",
       "      <th>name</th>\n",
       "      <th>image_url</th>\n",
       "      <th>is_closed</th>\n",
       "      <th>url</th>\n",
       "      <th>review_count</th>\n",
       "      <th>categories</th>\n",
       "      <th>rating</th>\n",
       "      <th>coordinates</th>\n",
       "      <th>transactions</th>\n",
       "      <th>price</th>\n",
       "      <th>location</th>\n",
       "      <th>phone</th>\n",
       "      <th>display_phone</th>\n",
       "      <th>distance</th>\n",
       "    </tr>\n",
       "  </thead>\n",
       "  <tbody>\n",
       "    <tr>\n",
       "      <th>0</th>\n",
       "      <td>DXwSYgiXqIVNdO9dazel6w</td>\n",
       "      <td>pequods-pizzeria-chicago</td>\n",
       "      <td>Pequod's Pizzeria</td>\n",
       "      <td>https://s3-media1.fl.yelpcdn.com/bphoto/8QJUNb...</td>\n",
       "      <td>False</td>\n",
       "      <td>https://www.yelp.com/biz/pequods-pizzeria-chic...</td>\n",
       "      <td>7738</td>\n",
       "      <td>[{'alias': 'pizza', 'title': 'Pizza'}]</td>\n",
       "      <td>4.0</td>\n",
       "      <td>{'latitude': 41.92187, 'longitude': -87.664486}</td>\n",
       "      <td>[pickup, delivery]</td>\n",
       "      <td>$$</td>\n",
       "      <td>{'address1': '2207 N Clybourn Ave', 'address2'...</td>\n",
       "      <td>+17733271512</td>\n",
       "      <td>(773) 327-1512</td>\n",
       "      <td>2158.708458</td>\n",
       "    </tr>\n",
       "    <tr>\n",
       "      <th>1</th>\n",
       "      <td>8vFJH_paXsMocmEO_KAa3w</td>\n",
       "      <td>lou-malnatis-pizzeria-chicago</td>\n",
       "      <td>Lou Malnati's Pizzeria</td>\n",
       "      <td>https://s3-media1.fl.yelpcdn.com/bphoto/abCXuj...</td>\n",
       "      <td>False</td>\n",
       "      <td>https://www.yelp.com/biz/lou-malnatis-pizzeria...</td>\n",
       "      <td>7192</td>\n",
       "      <td>[{'alias': 'pizza', 'title': 'Pizza'}, {'alias...</td>\n",
       "      <td>4.0</td>\n",
       "      <td>{'latitude': 41.890357, 'longitude': -87.633704}</td>\n",
       "      <td>[delivery, pickup]</td>\n",
       "      <td>$$</td>\n",
       "      <td>{'address1': '439 N Wells St', 'address2': '',...</td>\n",
       "      <td>+13128289800</td>\n",
       "      <td>(312) 828-9800</td>\n",
       "      <td>4000.999053</td>\n",
       "    </tr>\n",
       "    <tr>\n",
       "      <th>2</th>\n",
       "      <td>Bxd9Y2PsdvIOGIKFQh53RQ</td>\n",
       "      <td>giordanos-chicago-30</td>\n",
       "      <td>Giordano's</td>\n",
       "      <td>https://s3-media1.fl.yelpcdn.com/bphoto/OKxuR9...</td>\n",
       "      <td>False</td>\n",
       "      <td>https://www.yelp.com/biz/giordanos-chicago-30?...</td>\n",
       "      <td>3611</td>\n",
       "      <td>[{'alias': 'pizza', 'title': 'Pizza'}, {'alias...</td>\n",
       "      <td>4.0</td>\n",
       "      <td>{'latitude': 41.88513231411071, 'longitude': -...</td>\n",
       "      <td>[delivery]</td>\n",
       "      <td>$$</td>\n",
       "      <td>{'address1': '130 E Randolph St', 'address2': ...</td>\n",
       "      <td>+13126161200</td>\n",
       "      <td>(312) 616-1200</td>\n",
       "      <td>4994.255603</td>\n",
       "    </tr>\n",
       "    <tr>\n",
       "      <th>3</th>\n",
       "      <td>yMcPQm1ywLpXQX9_9Ct00g</td>\n",
       "      <td>bonci-chicago-6</td>\n",
       "      <td>Bonci</td>\n",
       "      <td>https://s3-media3.fl.yelpcdn.com/bphoto/xOqQof...</td>\n",
       "      <td>False</td>\n",
       "      <td>https://www.yelp.com/biz/bonci-chicago-6?adjus...</td>\n",
       "      <td>13</td>\n",
       "      <td>[{'alias': 'pizza', 'title': 'Pizza'}]</td>\n",
       "      <td>4.5</td>\n",
       "      <td>{'latitude': 41.93211641571614, 'longitude': -...</td>\n",
       "      <td>[]</td>\n",
       "      <td>NaN</td>\n",
       "      <td>{'address1': '1855 W Diversey Pkwy', 'address2...</td>\n",
       "      <td></td>\n",
       "      <td></td>\n",
       "      <td>3004.235582</td>\n",
       "    </tr>\n",
       "    <tr>\n",
       "      <th>4</th>\n",
       "      <td>wiNuegM8MNw9WIP0wfMmeA</td>\n",
       "      <td>coalfire-pizza-chicago</td>\n",
       "      <td>Coalfire Pizza</td>\n",
       "      <td>https://s3-media3.fl.yelpcdn.com/bphoto/VYA0aN...</td>\n",
       "      <td>False</td>\n",
       "      <td>https://www.yelp.com/biz/coalfire-pizza-chicag...</td>\n",
       "      <td>1200</td>\n",
       "      <td>[{'alias': 'pizza', 'title': 'Pizza'}]</td>\n",
       "      <td>4.5</td>\n",
       "      <td>{'latitude': 41.89075, 'longitude': -87.65988}</td>\n",
       "      <td>[delivery, pickup]</td>\n",
       "      <td>$$</td>\n",
       "      <td>{'address1': '1321 W Grand Ave', 'address2': '...</td>\n",
       "      <td>+13122262625</td>\n",
       "      <td>(312) 226-2625</td>\n",
       "      <td>2170.786489</td>\n",
       "    </tr>\n",
       "  </tbody>\n",
       "</table>\n",
       "</div>"
      ],
      "text/plain": [
       "                       id                          alias  \\\n",
       "0  DXwSYgiXqIVNdO9dazel6w       pequods-pizzeria-chicago   \n",
       "1  8vFJH_paXsMocmEO_KAa3w  lou-malnatis-pizzeria-chicago   \n",
       "2  Bxd9Y2PsdvIOGIKFQh53RQ           giordanos-chicago-30   \n",
       "3  yMcPQm1ywLpXQX9_9Ct00g                bonci-chicago-6   \n",
       "4  wiNuegM8MNw9WIP0wfMmeA         coalfire-pizza-chicago   \n",
       "\n",
       "                     name                                          image_url  \\\n",
       "0       Pequod's Pizzeria  https://s3-media1.fl.yelpcdn.com/bphoto/8QJUNb...   \n",
       "1  Lou Malnati's Pizzeria  https://s3-media1.fl.yelpcdn.com/bphoto/abCXuj...   \n",
       "2              Giordano's  https://s3-media1.fl.yelpcdn.com/bphoto/OKxuR9...   \n",
       "3                   Bonci  https://s3-media3.fl.yelpcdn.com/bphoto/xOqQof...   \n",
       "4          Coalfire Pizza  https://s3-media3.fl.yelpcdn.com/bphoto/VYA0aN...   \n",
       "\n",
       "   is_closed                                                url  review_count  \\\n",
       "0      False  https://www.yelp.com/biz/pequods-pizzeria-chic...          7738   \n",
       "1      False  https://www.yelp.com/biz/lou-malnatis-pizzeria...          7192   \n",
       "2      False  https://www.yelp.com/biz/giordanos-chicago-30?...          3611   \n",
       "3      False  https://www.yelp.com/biz/bonci-chicago-6?adjus...            13   \n",
       "4      False  https://www.yelp.com/biz/coalfire-pizza-chicag...          1200   \n",
       "\n",
       "                                          categories  rating  \\\n",
       "0             [{'alias': 'pizza', 'title': 'Pizza'}]     4.0   \n",
       "1  [{'alias': 'pizza', 'title': 'Pizza'}, {'alias...     4.0   \n",
       "2  [{'alias': 'pizza', 'title': 'Pizza'}, {'alias...     4.0   \n",
       "3             [{'alias': 'pizza', 'title': 'Pizza'}]     4.5   \n",
       "4             [{'alias': 'pizza', 'title': 'Pizza'}]     4.5   \n",
       "\n",
       "                                         coordinates        transactions  \\\n",
       "0    {'latitude': 41.92187, 'longitude': -87.664486}  [pickup, delivery]   \n",
       "1   {'latitude': 41.890357, 'longitude': -87.633704}  [delivery, pickup]   \n",
       "2  {'latitude': 41.88513231411071, 'longitude': -...          [delivery]   \n",
       "3  {'latitude': 41.93211641571614, 'longitude': -...                  []   \n",
       "4     {'latitude': 41.89075, 'longitude': -87.65988}  [delivery, pickup]   \n",
       "\n",
       "  price                                           location         phone  \\\n",
       "0    $$  {'address1': '2207 N Clybourn Ave', 'address2'...  +17733271512   \n",
       "1    $$  {'address1': '439 N Wells St', 'address2': '',...  +13128289800   \n",
       "2    $$  {'address1': '130 E Randolph St', 'address2': ...  +13126161200   \n",
       "3   NaN  {'address1': '1855 W Diversey Pkwy', 'address2...                 \n",
       "4    $$  {'address1': '1321 W Grand Ave', 'address2': '...  +13122262625   \n",
       "\n",
       "    display_phone     distance  \n",
       "0  (773) 327-1512  2158.708458  \n",
       "1  (312) 828-9800  4000.999053  \n",
       "2  (312) 616-1200  4994.255603  \n",
       "3                  3004.235582  \n",
       "4  (312) 226-2625  2170.786489  "
      ]
     },
     "metadata": {},
     "output_type": "display_data"
    },
    {
     "data": {
      "text/html": [
       "<div>\n",
       "<style scoped>\n",
       "    .dataframe tbody tr th:only-of-type {\n",
       "        vertical-align: middle;\n",
       "    }\n",
       "\n",
       "    .dataframe tbody tr th {\n",
       "        vertical-align: top;\n",
       "    }\n",
       "\n",
       "    .dataframe thead th {\n",
       "        text-align: right;\n",
       "    }\n",
       "</style>\n",
       "<table border=\"1\" class=\"dataframe\">\n",
       "  <thead>\n",
       "    <tr style=\"text-align: right;\">\n",
       "      <th></th>\n",
       "      <th>id</th>\n",
       "      <th>alias</th>\n",
       "      <th>name</th>\n",
       "      <th>image_url</th>\n",
       "      <th>is_closed</th>\n",
       "      <th>url</th>\n",
       "      <th>review_count</th>\n",
       "      <th>categories</th>\n",
       "      <th>rating</th>\n",
       "      <th>coordinates</th>\n",
       "      <th>transactions</th>\n",
       "      <th>price</th>\n",
       "      <th>location</th>\n",
       "      <th>phone</th>\n",
       "      <th>display_phone</th>\n",
       "      <th>distance</th>\n",
       "    </tr>\n",
       "  </thead>\n",
       "  <tbody>\n",
       "    <tr>\n",
       "      <th>995</th>\n",
       "      <td>NMfvUzRbNu5bUt4E_psKfg</td>\n",
       "      <td>macs-wood-grilled-chicago</td>\n",
       "      <td>Mac's Wood Grilled</td>\n",
       "      <td>https://s3-media3.fl.yelpcdn.com/bphoto/p72WsL...</td>\n",
       "      <td>False</td>\n",
       "      <td>https://www.yelp.com/biz/macs-wood-grilled-chi...</td>\n",
       "      <td>215</td>\n",
       "      <td>[{'alias': 'tradamerican', 'title': 'American ...</td>\n",
       "      <td>3.0</td>\n",
       "      <td>{'latitude': 41.9031375, 'longitude': -87.6725...</td>\n",
       "      <td>[pickup]</td>\n",
       "      <td>$$</td>\n",
       "      <td>{'address1': '1801 W Division St', 'address2':...</td>\n",
       "      <td>+17737824400</td>\n",
       "      <td>(773) 782-4400</td>\n",
       "      <td>485.949174</td>\n",
       "    </tr>\n",
       "    <tr>\n",
       "      <th>996</th>\n",
       "      <td>0UfOragUQsYgPWy7cucWyA</td>\n",
       "      <td>capri-deli-and-pizza-palatine</td>\n",
       "      <td>Capri Deli &amp; Pizza</td>\n",
       "      <td>https://s3-media2.fl.yelpcdn.com/bphoto/PtcXvp...</td>\n",
       "      <td>False</td>\n",
       "      <td>https://www.yelp.com/biz/capri-deli-and-pizza-...</td>\n",
       "      <td>330</td>\n",
       "      <td>[{'alias': 'delis', 'title': 'Delis'}, {'alias...</td>\n",
       "      <td>4.5</td>\n",
       "      <td>{'latitude': 42.1394998, 'longitude': -88.0219...</td>\n",
       "      <td>[delivery, pickup]</td>\n",
       "      <td>$</td>\n",
       "      <td>{'address1': '1625 N Rand Rd', 'address2': '',...</td>\n",
       "      <td>+18473599106</td>\n",
       "      <td>(847) 359-9106</td>\n",
       "      <td>38624.391093</td>\n",
       "    </tr>\n",
       "    <tr>\n",
       "      <th>997</th>\n",
       "      <td>9stAvpo2mu_UiVOO18ChiA</td>\n",
       "      <td>giordanos-lincolnwood</td>\n",
       "      <td>Giordano's</td>\n",
       "      <td>https://s3-media2.fl.yelpcdn.com/bphoto/KsXiS0...</td>\n",
       "      <td>False</td>\n",
       "      <td>https://www.yelp.com/biz/giordanos-lincolnwood...</td>\n",
       "      <td>43</td>\n",
       "      <td>[{'alias': 'pizza', 'title': 'Pizza'}, {'alias...</td>\n",
       "      <td>3.5</td>\n",
       "      <td>{'latitude': 41.998935, 'longitude': -87.720619}</td>\n",
       "      <td>[delivery]</td>\n",
       "      <td>$$</td>\n",
       "      <td>{'address1': '6485 N Lincoln Ave', 'address2':...</td>\n",
       "      <td>+18479830223</td>\n",
       "      <td>(847) 983-0223</td>\n",
       "      <td>11013.134900</td>\n",
       "    </tr>\n",
       "    <tr>\n",
       "      <th>998</th>\n",
       "      <td>RGnU238ttymbm4KQTdon2A</td>\n",
       "      <td>penguinos-pizza-buffalo-grove</td>\n",
       "      <td>Penguino's Pizza</td>\n",
       "      <td>https://s3-media3.fl.yelpcdn.com/bphoto/wPBKHd...</td>\n",
       "      <td>False</td>\n",
       "      <td>https://www.yelp.com/biz/penguinos-pizza-buffa...</td>\n",
       "      <td>81</td>\n",
       "      <td>[{'alias': 'pizza', 'title': 'Pizza'}, {'alias...</td>\n",
       "      <td>4.5</td>\n",
       "      <td>{'latitude': 42.1387951, 'longitude': -87.96195}</td>\n",
       "      <td>[delivery, pickup]</td>\n",
       "      <td>$</td>\n",
       "      <td>{'address1': '141 W Dundee Rd', 'address2': ''...</td>\n",
       "      <td>+18474590002</td>\n",
       "      <td>(847) 459-0002</td>\n",
       "      <td>34948.653748</td>\n",
       "    </tr>\n",
       "    <tr>\n",
       "      <th>999</th>\n",
       "      <td>iZ_vaM2NvBghDqhHdh7D7g</td>\n",
       "      <td>home-run-inn-pizza-chicago-6</td>\n",
       "      <td>Home Run Inn Pizza</td>\n",
       "      <td>https://s3-media4.fl.yelpcdn.com/bphoto/wWZALh...</td>\n",
       "      <td>False</td>\n",
       "      <td>https://www.yelp.com/biz/home-run-inn-pizza-ch...</td>\n",
       "      <td>224</td>\n",
       "      <td>[{'alias': 'pizza', 'title': 'Pizza'}, {'alias...</td>\n",
       "      <td>2.0</td>\n",
       "      <td>{'latitude': 41.78720430408615, 'longitude': -...</td>\n",
       "      <td>[]</td>\n",
       "      <td>$$</td>\n",
       "      <td>{'address1': '5700 S Cicero Ave', 'address2': ...</td>\n",
       "      <td>+18722407730</td>\n",
       "      <td>(872) 240-7730</td>\n",
       "      <td>14254.110390</td>\n",
       "    </tr>\n",
       "  </tbody>\n",
       "</table>\n",
       "</div>"
      ],
      "text/plain": [
       "                         id                          alias  \\\n",
       "995  NMfvUzRbNu5bUt4E_psKfg      macs-wood-grilled-chicago   \n",
       "996  0UfOragUQsYgPWy7cucWyA  capri-deli-and-pizza-palatine   \n",
       "997  9stAvpo2mu_UiVOO18ChiA          giordanos-lincolnwood   \n",
       "998  RGnU238ttymbm4KQTdon2A  penguinos-pizza-buffalo-grove   \n",
       "999  iZ_vaM2NvBghDqhHdh7D7g   home-run-inn-pizza-chicago-6   \n",
       "\n",
       "                   name                                          image_url  \\\n",
       "995  Mac's Wood Grilled  https://s3-media3.fl.yelpcdn.com/bphoto/p72WsL...   \n",
       "996  Capri Deli & Pizza  https://s3-media2.fl.yelpcdn.com/bphoto/PtcXvp...   \n",
       "997          Giordano's  https://s3-media2.fl.yelpcdn.com/bphoto/KsXiS0...   \n",
       "998    Penguino's Pizza  https://s3-media3.fl.yelpcdn.com/bphoto/wPBKHd...   \n",
       "999  Home Run Inn Pizza  https://s3-media4.fl.yelpcdn.com/bphoto/wWZALh...   \n",
       "\n",
       "     is_closed                                                url  \\\n",
       "995      False  https://www.yelp.com/biz/macs-wood-grilled-chi...   \n",
       "996      False  https://www.yelp.com/biz/capri-deli-and-pizza-...   \n",
       "997      False  https://www.yelp.com/biz/giordanos-lincolnwood...   \n",
       "998      False  https://www.yelp.com/biz/penguinos-pizza-buffa...   \n",
       "999      False  https://www.yelp.com/biz/home-run-inn-pizza-ch...   \n",
       "\n",
       "     review_count                                         categories  rating  \\\n",
       "995           215  [{'alias': 'tradamerican', 'title': 'American ...     3.0   \n",
       "996           330  [{'alias': 'delis', 'title': 'Delis'}, {'alias...     4.5   \n",
       "997            43  [{'alias': 'pizza', 'title': 'Pizza'}, {'alias...     3.5   \n",
       "998            81  [{'alias': 'pizza', 'title': 'Pizza'}, {'alias...     4.5   \n",
       "999           224  [{'alias': 'pizza', 'title': 'Pizza'}, {'alias...     2.0   \n",
       "\n",
       "                                           coordinates        transactions  \\\n",
       "995  {'latitude': 41.9031375, 'longitude': -87.6725...            [pickup]   \n",
       "996  {'latitude': 42.1394998, 'longitude': -88.0219...  [delivery, pickup]   \n",
       "997   {'latitude': 41.998935, 'longitude': -87.720619}          [delivery]   \n",
       "998   {'latitude': 42.1387951, 'longitude': -87.96195}  [delivery, pickup]   \n",
       "999  {'latitude': 41.78720430408615, 'longitude': -...                  []   \n",
       "\n",
       "    price                                           location         phone  \\\n",
       "995    $$  {'address1': '1801 W Division St', 'address2':...  +17737824400   \n",
       "996     $  {'address1': '1625 N Rand Rd', 'address2': '',...  +18473599106   \n",
       "997    $$  {'address1': '6485 N Lincoln Ave', 'address2':...  +18479830223   \n",
       "998     $  {'address1': '141 W Dundee Rd', 'address2': ''...  +18474590002   \n",
       "999    $$  {'address1': '5700 S Cicero Ave', 'address2': ...  +18722407730   \n",
       "\n",
       "      display_phone      distance  \n",
       "995  (773) 782-4400    485.949174  \n",
       "996  (847) 359-9106  38624.391093  \n",
       "997  (847) 983-0223  11013.134900  \n",
       "998  (847) 459-0002  34948.653748  \n",
       "999  (872) 240-7730  14254.110390  "
      ]
     },
     "metadata": {},
     "output_type": "display_data"
    }
   ],
   "source": [
    "final_df = pd.read_json(JSON_FILE)\n",
    "display(final_df.head(), final_df.tail())"
   ]
  },
  {
   "cell_type": "code",
   "execution_count": 23,
   "id": "02522237-cd76-43a5-9626-5529d3c232c4",
   "metadata": {},
   "outputs": [
    {
     "data": {
      "text/plain": [
       "0"
      ]
     },
     "execution_count": 23,
     "metadata": {},
     "output_type": "execute_result"
    }
   ],
   "source": [
    "final_df.duplicated(subset='id').sum()"
   ]
  },
  {
   "cell_type": "code",
   "execution_count": 24,
   "id": "cb65a0d6-0408-4095-bec6-07b4201233d2",
   "metadata": {},
   "outputs": [
    {
     "data": {
      "text/plain": [
       "0"
      ]
     },
     "execution_count": 24,
     "metadata": {},
     "output_type": "execute_result"
    }
   ],
   "source": [
    "final_df = final_df.drop_duplicates(subset='id')\n",
    "final_df.duplicated(subset='id').sum()"
   ]
  },
  {
   "cell_type": "code",
   "execution_count": 25,
   "id": "f3793577-5fa3-4464-8545-03661a46931e",
   "metadata": {},
   "outputs": [],
   "source": [
    "final_df.to_csv('Data/final_results_Chicago_pizza.csv.gz', compression='gzip',index=False)"
   ]
  }
 ],
 "metadata": {
  "kernelspec": {
   "display_name": "Python 3 (ipykernel)",
   "language": "python",
   "name": "python3"
  },
  "language_info": {
   "codemirror_mode": {
    "name": "ipython",
    "version": 3
   },
   "file_extension": ".py",
   "mimetype": "text/x-python",
   "name": "python",
   "nbconvert_exporter": "python",
   "pygments_lexer": "ipython3",
   "version": "3.10.10"
  }
 },
 "nbformat": 4,
 "nbformat_minor": 5
}
